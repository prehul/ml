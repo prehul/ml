{
 "cells": [
  {
   "cell_type": "code",
   "execution_count": 7,
   "id": "3842cf00",
   "metadata": {},
   "outputs": [
    {
     "name": "stdout",
     "output_type": "stream",
     "text": [
      "K-Fold Cross-Validation Accuracy: 0.96 (+/- 0.02)\n",
      "Stratified K-Fold Cross-Validation Accuracy: 0.96 (+/- 0.04)\n",
      "Leave-One-Out Cross-Validation Accuracy: 0.95\n",
      "Time Series [-0.   -1.   -0.   -1.   -0.16]\n"
     ]
    }
   ],
   "source": [
    "from sklearn.model_selection import KFold, StratifiedKFold, LeaveOneOut, cross_val_score, TimeSeriesSplit\n",
    "from sklearn.ensemble import RandomForestClassifier\n",
    "from sklearn.datasets import load_iris\n",
    "\n",
    "# Load dataset\n",
    "iris = load_iris()\n",
    "X, y = iris.data, iris.target\n",
    "\n",
    "# Create a random forest classifier (replace with your model of choice)\n",
    "model = RandomForestClassifier(n_estimators=100)\n",
    "\n",
    "# Define the number of splits for k-fold cross-validation\n",
    "num_folds = 5\n",
    "\n",
    "# Perform k-fold cross-validation\n",
    "kfold = KFold(n_splits=num_folds, shuffle=True, random_state=42)\n",
    "kfold_accuracies = cross_val_score(model, X, y, cv=kfold)\n",
    "print(f\"K-Fold Cross-Validation Accuracy: {kfold_accuracies.mean():.2f} (+/- {kfold_accuracies.std():.2f})\")\n",
    "\n",
    "# Perform stratified k-fold cross-validation (maintains class distribution)\n",
    "stratified_kfold = StratifiedKFold(n_splits=num_folds, shuffle=True, random_state=42)\n",
    "stratified_kfold_accuracies = cross_val_score(model, X, y, cv=stratified_kfold)\n",
    "print(f\"Stratified K-Fold Cross-Validation Accuracy: {stratified_kfold_accuracies.mean():.2f} (+/- {stratified_kfold_accuracies.std():.2f})\")\n",
    "\n",
    "# Perform leave-one-out cross-validation\n",
    "leave_one_out = LeaveOneOut()\n",
    "leave_one_out_accuracies = cross_val_score(model, X, y, cv=leave_one_out)\n",
    "print(f\"Leave-One-Out Cross-Validation Accuracy: {leave_one_out_accuracies.mean():.2f}\")\n",
    "\n",
    "num_splits = 5\n",
    "time_series_split = TimeSeriesSplit(n_splits=num_splits)\n",
    "# Perform time series cross-validation\n",
    "time_series_accuracies = cross_val_score(model, X, y, cv=time_series_split, scoring='neg_mean_squared_error')\n",
    "# Display the cross-validation results\n",
    "print(f\"Time Series\" , time_series_accuracies)\n",
    "\n"
   ]
  },
  {
   "cell_type": "code",
   "execution_count": null,
   "id": "48a7bf87",
   "metadata": {},
   "outputs": [],
   "source": []
  }
 ],
 "metadata": {
  "kernelspec": {
   "display_name": "Python 3 (ipykernel)",
   "language": "python",
   "name": "python3"
  },
  "language_info": {
   "codemirror_mode": {
    "name": "ipython",
    "version": 3
   },
   "file_extension": ".py",
   "mimetype": "text/x-python",
   "name": "python",
   "nbconvert_exporter": "python",
   "pygments_lexer": "ipython3",
   "version": "3.11.5"
  }
 },
 "nbformat": 4,
 "nbformat_minor": 5
}
